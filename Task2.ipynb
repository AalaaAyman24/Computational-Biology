{
 "cells": [
  {
   "cell_type": "code",
   "execution_count": 5,
   "metadata": {},
   "outputs": [],
   "source": [
    "import re\n",
    "import pyopenms\n",
    "from collections import defaultdict"
   ]
  },
  {
   "cell_type": "code",
   "execution_count": 6,
   "metadata": {},
   "outputs": [
    {
     "name": "stdout",
     "output_type": "stream",
     "text": [
      "MALWMRLLPLLALLALWGPDPAAAFVNQHLCGSHLVEALYLVCGERGFFYTPKTRREAEDLQVGQVELGGGPGAGSLQPLALEGSLQKRGIVEQCCTSICSLYQLENYCN\n"
     ]
    }
   ],
   "source": [
    "def read_protein_sequence(file_path):\n",
    "    with open(file_path, 'r') as file:\n",
    "        sequence = \"\".join([line.strip() for line in file.readlines()[1:]])\n",
    "    return sequence\n",
    "\n",
    "file_path = \"insulin_sequence.txt\"\n",
    "\n",
    "sequence = read_protein_sequence(file_path)\n",
    "print(sequence)"
   ]
  },
  {
   "cell_type": "code",
   "execution_count": 7,
   "metadata": {},
   "outputs": [
    {
     "name": "stdout",
     "output_type": "stream",
     "text": [
      "Peptides after trypsin digestion: ['MALWMR', 'LLPLLALLALWGPDPAAAFVNQHLCGSHLVEALYLVCGER', 'GFFYTPK', 'TR', 'R', 'EAEDLQVGQVELGGGPGAGSLQPLALEGSLQK', 'R', 'GIVEQCCTSICSLYQLENYCN']\n"
     ]
    }
   ],
   "source": [
    "def digest_protein(sequence, enzyme='trypsin'):\n",
    "    if enzyme == 'trypsin':\n",
    "        peptides = re.split(r'(?<=[KR])(?!P)', sequence)\n",
    "    return peptides\n",
    "\n",
    "peptides = digest_protein(sequence)\n",
    "print(\"Peptides after trypsin digestion:\", peptides)"
   ]
  },
  {
   "cell_type": "code",
   "execution_count": 11,
   "metadata": {},
   "outputs": [
    {
     "name": "stdout",
     "output_type": "stream",
     "text": [
      "Mass: 806.3931 Da ==> Peptides: ['MALWMR']\n",
      "Mass: 4282.2799 Da ==> Peptides: ['LLPLLALLALWGPDPAAAFVNQHLCGSHLVEALYLVCGER']\n",
      "Mass: 858.4276 Da ==> Peptides: ['GFFYTPK']\n",
      "Mass: 275.1594 Da ==> Peptides: ['TR']\n",
      "Mass: 174.1117 Da ==> Peptides: ['R', 'R']\n",
      "Mass: 3146.6096 Da ==> Peptides: ['EAEDLQVGQVELGGGPGAGSLQPLALEGSLQK']\n",
      "Mass: 2382.0000 Da ==> Peptides: ['GIVEQCCTSICSLYQLENYCN']\n"
     ]
    }
   ],
   "source": [
    "def calculate_monoisotopic_mass_peptide(peptide_sequence):\n",
    "    peptide = pyopenms.AASequence.fromString(peptide_sequence)\n",
    "    mass = peptide.getMonoWeight()\n",
    "    return mass\n",
    "\n",
    "\n",
    "def store_peptide_and_mass_info(peptides):\n",
    "    peptide_info_dict = defaultdict(list)  \n",
    "    for peptide in peptides:\n",
    "        mass = calculate_monoisotopic_mass_peptide(peptide)\n",
    "        peptide_info_dict[mass].append(peptide)  \n",
    "    return peptide_info_dict\n",
    "\n",
    "\n",
    "peptide_info_dict = store_peptide_and_mass_info(peptides)\n",
    "\n",
    "for mass, peptides_list in peptide_info_dict.items():\n",
    "    print(f\"Mass: {mass:.4f} Da ==> Peptides: {peptides_list}\")"
   ]
  },
  {
   "cell_type": "code",
   "execution_count": 10,
   "metadata": {},
   "outputs": [
    {
     "name": "stdout",
     "output_type": "stream",
     "text": [
      "Detected Isobaric Peptides:\n",
      "> Mass: 174.1117 Da\n",
      "  Sequences: R | R\n"
     ]
    }
   ],
   "source": [
    "def find_isobaric_peptides(peptide_data):\n",
    "    result = {}\n",
    "    for mass, sequences in peptide_data.items():\n",
    "        if len(sequences) > 1:\n",
    "            result[mass] = sequences\n",
    "    return result\n",
    "\n",
    "isobaric_peptides = find_isobaric_peptides(peptide_info_dict)\n",
    "\n",
    "\n",
    "if isobaric_peptides:\n",
    "    print(\"Detected Isobaric Peptides:\")\n",
    "    for mass, sequences in isobaric_peptides.items():\n",
    "        formatted_sequences = \" | \".join(sequences)\n",
    "        print(f\"> Mass: {mass:.4f} Da\")\n",
    "        print(f\"  Sequences: {formatted_sequences}\")\n",
    "else:\n",
    "    print(\"No isobaric peptides were found.\")\n"
   ]
  }
 ],
 "metadata": {
  "kernelspec": {
   "display_name": "Python 3",
   "language": "python",
   "name": "python3"
  },
  "language_info": {
   "codemirror_mode": {
    "name": "ipython",
    "version": 3
   },
   "file_extension": ".py",
   "mimetype": "text/x-python",
   "name": "python",
   "nbconvert_exporter": "python",
   "pygments_lexer": "ipython3",
   "version": "3.10.6"
  }
 },
 "nbformat": 4,
 "nbformat_minor": 2
}
